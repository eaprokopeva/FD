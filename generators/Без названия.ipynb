{
 "cells": [
  {
   "cell_type": "code",
   "execution_count": 16,
   "id": "02a0c2e1",
   "metadata": {},
   "outputs": [],
   "source": [
    "from random import random, randint\n",
    "from faker import Faker\n",
    "import csv\n",
    "from datetime import datetime"
   ]
  },
  {
   "cell_type": "code",
   "execution_count": 2,
   "id": "5dd66d7f",
   "metadata": {},
   "outputs": [],
   "source": [
    "NROWS = 100\n",
    "fake = Faker(\"ru_RU\")"
   ]
  },
  {
   "cell_type": "code",
   "execution_count": 23,
   "id": "0a7177e9",
   "metadata": {},
   "outputs": [],
   "source": [
    "def generate_user(fake: Faker):\n",
    "    fullname = fake.name()\n",
    "    birthday = fake.date_of_birth(minimum_age=14, maximum_age=90)\n",
    "    country_of_birth = fake.country()\n",
    "    country = fake.current_country()\n",
    "    region = fake.region()\n",
    "    city_name = fake.city_name()\n",
    "    address = fake.street_address()\n",
    "    client_id = randint(10 ** 9, 10 ** 10 - 1)\n",
    "    inn = fake.individuals_inn()\n",
    "    phone = fake.phone_number()\n",
    "    return fullname, birthday, country_of_birth, country, region,city_name, address, client_id, inn, phone "
   ]
  },
  {
   "cell_type": "code",
   "execution_count": 53,
   "id": "6d2e5327",
   "metadata": {},
   "outputs": [],
   "source": [
    "def generate_users_rows(fake: Faker, NROWS: int):\n",
    "    with open(\n",
    "            \"../data/clients.csv\", \"w\", encoding=\"utf-8\", newline=\"\"\n",
    "    ) as file:\n",
    "        writer = csv.writer(file, delimiter=\";\")\n",
    "        for i in range(NROWS):\n",
    "            row = generate_user(fake)\n",
    "            writer.writerow(row)\n"
   ]
  },
  {
   "cell_type": "code",
   "execution_count": 52,
   "id": "c82283af",
   "metadata": {},
   "outputs": [],
   "source": [
    "if __name__ == \"__main__\":\n",
    "    generate_users_rows(fake, NROWS)"
   ]
  },
  {
   "cell_type": "code",
   "execution_count": 24,
   "id": "f4d3df05",
   "metadata": {},
   "outputs": [
    {
     "data": {
      "text/plain": [
       "('Назаров Лев Эдгарович',\n",
       " datetime.date(1993, 2, 5),\n",
       " 'Руанда',\n",
       " 'Russia',\n",
       " 'Чукотский АО',\n",
       " 'Игнашино',\n",
       " 'пер. 40 лет Октября, д. 4',\n",
       " 5034124800,\n",
       " '096026955966',\n",
       " '+7 (168) 128-44-13')"
      ]
     },
     "execution_count": 24,
     "metadata": {},
     "output_type": "execute_result"
    }
   ],
   "source": [
    "generate_user(fake)"
   ]
  },
  {
   "cell_type": "code",
   "execution_count": null,
   "id": "a4511bfb",
   "metadata": {},
   "outputs": [],
   "source": []
  },
  {
   "cell_type": "code",
   "execution_count": 17,
   "id": "e6106187",
   "metadata": {},
   "outputs": [
    {
     "data": {
      "text/plain": [
       "datetime.datetime(2024, 10, 21, 17, 2, 59, 792832)"
      ]
     },
     "execution_count": 17,
     "metadata": {},
     "output_type": "execute_result"
    }
   ],
   "source": [
    "datetime."
   ]
  },
  {
   "cell_type": "code",
   "execution_count": 19,
   "id": "3cc7c6eb",
   "metadata": {},
   "outputs": [],
   "source": [
    "def generate_card(fake: Faker):\n",
    "    #account_number = some_account_number\n",
    "    card_number = fake.credit_card_number()\n",
    "    card_provider = fake.credit_card_provider()\n",
    "    cvv = fake.credit_card_security_code()\n",
    "    expire_date = fake.credit_card_expire(start = datetime.now())\n",
    "    \n",
    "    return card_number, card_provider, cvv, expire_date\n",
    "     "
   ]
  },
  {
   "cell_type": "code",
   "execution_count": null,
   "id": "9ed55ffd",
   "metadata": {},
   "outputs": [],
   "source": []
  },
  {
   "cell_type": "code",
   "execution_count": null,
   "id": "7c6ac7a3",
   "metadata": {},
   "outputs": [],
   "source": [
    "def generate_account(fake: Faker):\n",
    "    account_number = ###\n",
    "    account_type =\n",
    "    client_id = \n",
    "    account_korr = \n",
    "    account_bic = "
   ]
  },
  {
   "cell_type": "code",
   "execution_count": null,
   "id": "58df3c7d",
   "metadata": {},
   "outputs": [],
   "source": []
  },
  {
   "cell_type": "code",
   "execution_count": 20,
   "id": "03efdefd",
   "metadata": {},
   "outputs": [
    {
     "data": {
      "text/plain": [
       "('6233682549205871', 'Union Pay', '718', '11/27')"
      ]
     },
     "execution_count": 20,
     "metadata": {},
     "output_type": "execute_result"
    }
   ],
   "source": [
    "generate_card(fake)"
   ]
  }
 ],
 "metadata": {
  "kernelspec": {
   "display_name": "Python 3 (ipykernel)",
   "language": "python",
   "name": "python3"
  },
  "language_info": {
   "codemirror_mode": {
    "name": "ipython",
    "version": 3
   },
   "file_extension": ".py",
   "mimetype": "text/x-python",
   "name": "python",
   "nbconvert_exporter": "python",
   "pygments_lexer": "ipython3",
   "version": "3.9.12"
  }
 },
 "nbformat": 4,
 "nbformat_minor": 5
}
